{
 "cells": [
  {
   "cell_type": "markdown",
   "id": "subjective-venue",
   "metadata": {},
   "source": [
    "Insert the data from the pickled file"
   ]
  },
  {
   "cell_type": "code",
   "execution_count": 4,
   "id": "significant-berlin",
   "metadata": {},
   "outputs": [
    {
     "data": {
      "text/plain": [
       "'0'"
      ]
     },
     "execution_count": 4,
     "metadata": {},
     "output_type": "execute_result"
    }
   ],
   "source": [
    "import pandas as ps\n",
    "import pickle\n",
    "\n",
    "path = \"data/df_pickled\"\n",
    "\n",
    "df = pickle.load(open(path, 'rb'))\n",
    "df[\"title\"].to_string()[0]"
   ]
  }
 ],
 "metadata": {
  "kernelspec": {
   "display_name": "Python 3",
   "language": "python",
   "name": "python3"
  },
  "language_info": {
   "codemirror_mode": {
    "name": "ipython",
    "version": 3
   },
   "file_extension": ".py",
   "mimetype": "text/x-python",
   "name": "python",
   "nbconvert_exporter": "python",
   "pygments_lexer": "ipython3",
   "version": "3.8.5"
  }
 },
 "nbformat": 4,
 "nbformat_minor": 5
}
