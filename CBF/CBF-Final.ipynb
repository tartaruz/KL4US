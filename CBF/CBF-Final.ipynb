{
 "cells": [
  {
   "cell_type": "markdown",
   "metadata": {},
   "source": [
    "## Content-based filtering\n",
    "\n",
    "Import the needs for this to work"
   ]
  },
  {
   "cell_type": "code",
   "execution_count": 1,
   "metadata": {},
   "outputs": [],
   "source": [
    "import pandas as pd\n",
    "import pickle\n",
    "import string\n",
    "import nltk\n",
    "from nltk.corpus import stopwords\n",
    "from nltk.stem.snowball import NorwegianStemmer \n",
    "from sklearn.feature_extraction.text import TfidfVectorizer\n",
    "from sklearn.metrics.pairwise import cosine_similarity\n",
    "import numpy as np\n",
    "import random\n",
    "import operator"
   ]
  },
  {
   "cell_type": "code",
   "execution_count": 2,
   "metadata": {},
   "outputs": [
    {
     "name": "stderr",
     "output_type": "stream",
     "text": [
      "[nltk_data] Downloading package stopwords to\n",
      "[nltk_data]     C:\\Users\\vy111\\AppData\\Roaming\\nltk_data...\n",
      "[nltk_data]   Package stopwords is already up-to-date!\n"
     ]
    },
    {
     "data": {
      "text/plain": [
       "True"
      ]
     },
     "execution_count": 2,
     "metadata": {},
     "output_type": "execute_result"
    }
   ],
   "source": [
    "stemmer = NorwegianStemmer() \n",
    "nltk.download('stopwords')"
   ]
  },
  {
   "cell_type": "code",
   "execution_count": 3,
   "metadata": {},
   "outputs": [],
   "source": [
    "class NLP():\n",
    "    def __init__(self, data):\n",
    "        self.data = data\n",
    "        # self.nlp = spacy.load('nb_core_news_sm')\n",
    "        self.vectors = None\n",
    "\n",
    "\n",
    "    def preprosses_df(self):\n",
    "        self.info(\"Removing None and duplicates in data\")\n",
    "        self.data = self.data.drop_duplicates([\"title\"])\n",
    "        self.data = self.data.dropna(subset=('title',))\n",
    "        self.data = self.data.reset_index()\n",
    "  \n",
    "    def get_titles(self):\n",
    "        self.info(\"Getting the titles\")\n",
    "        titles = self.data[\"title\"]\n",
    "        titles = [title for title in titles]\n",
    "        return titles\n",
    "\n",
    "    def remove_noice(self, titles):\n",
    "        self.info(\"Removing the noice in the titles\")\n",
    "        PUNCT = string.punctuation+\"«»\"\n",
    "        for index, title in enumerate(titles):\n",
    "            titles[index] = title.translate(str.maketrans('', '', PUNCT))\n",
    "        return titles\n",
    "\n",
    "    def normalize(self, titles):\n",
    "        self.info(\"Stemming the words\")\n",
    "        for index, title in enumerate(titles):\n",
    "            titles[index] = [stemmer.stem(word) for word in title]\n",
    "        return titles\n",
    "\n",
    "    def remove_stopwords(self, titles):\n",
    "        self.info(\"Removing the stopwords in the titles\")\n",
    "\n",
    "        for index, title in enumerate(titles):\n",
    "            titles[index] = [word for word in title if not word in stopwords.words(\"norwegian\")]\n",
    "        return titles\n",
    "\n",
    "    \n",
    "    def tokenize(self, titles):\n",
    "        self.info(\"Tokenizing and lowering the word in titles\")\n",
    "        for index in range(len(titles)):\n",
    "            titles[index] =  nltk.word_tokenize(titles[index].lower())\n",
    "        return titles\n",
    "\n",
    "    def do_magic(self):\n",
    "        self.info(\"Init prosses\")\n",
    "        self.preprosses_df()\n",
    "        titles = self.get_titles()\n",
    "\n",
    "        titles = self.remove_noice(titles)\n",
    "\n",
    "        titles = self.tokenize(titles)\n",
    "        \n",
    "        titles = self.remove_stopwords(titles)\n",
    "        \n",
    "        titles = self.normalize(titles)\n",
    "\n",
    "        self.data[\"new_title\"] = titles\n",
    "        self.TFIDF()\n",
    "\n",
    "    def TFIDF(self):\n",
    "        self.info(\"Vectorizing the corpus with TFIDF\")\n",
    "        vectorizer = TfidfVectorizer()\n",
    "        corpus = [\" \".join(sentenc) for sentenc in self.data[\"new_title\"].tolist()]\n",
    "        self.vectors = vectorizer.fit_transform(corpus)\n",
    "        # denselist = vectors.todense().tolist()\n",
    "\n",
    "    def compare(self, title, k_number=10):\n",
    "        #self.info(\"Comparing title with all other titles\")\n",
    "        #self.info(f\"Search: [{title}]\")\n",
    "        q_index = self.data[self.data[\"title\"]==title].index\n",
    "        if len(q_index)<=0:\n",
    "            return None\n",
    "\n",
    "        similarity = cosine_similarity(self.vectors)[q_index].tolist()[0]\n",
    "        # for index,value in enumerate(similarity):\n",
    "        #     self.data.iloc[index][\"similarity\"] = value\n",
    "        # print(similarity)\n",
    "        # index, value = max(enumerate(similarity), key=operator.itemgetter(1))\n",
    "        # print(\"------------------\",index, value)\n",
    "        # print(self.data.iloc[index])\n",
    "        # self.data = self.data.sort_values(by=['index'])\n",
    "        self.data[\"similarity\"] = similarity\n",
    "        results = self.data.sort_values(by=['similarity'], ascending=False)\n",
    "        return results[:k_number]\n",
    "\n",
    "    def info(self, text):\n",
    "        line = \"=\"*(75-len(text))\n",
    "        print(f\"{line}=> {text} +  {len(self.data)}\")"
   ]
  },
  {
   "cell_type": "code",
   "execution_count": 4,
   "metadata": {},
   "outputs": [],
   "source": [
    "# if __name__ == \"__main__\":\n",
    "#     path = \"data/pickeledDataset\"\n",
    "#     df = pickle.load(open(path, \"rb\"))\n",
    "#     nlp = NLP(df)\n",
    "#     nlp.do_magic()\n",
    "\n",
    "#     i = random.randint(0, len(nlp.data))\n",
    "#     query = nlp.data[\"title\"][i]\n",
    "   \n",
    "#     results = nlp.compare(query, k_number = 15)\n",
    "#     cols = [\"similarity\",\"title\", \"url\"]"
   ]
  },
  {
   "cell_type": "markdown",
   "metadata": {},
   "source": [
    "### Unpickle the pickle\n",
    "The data for the system"
   ]
  },
  {
   "cell_type": "code",
   "execution_count": 5,
   "metadata": {
    "scrolled": true
   },
   "outputs": [],
   "source": [
    "path = \"data/pickeledDataset\"\n",
    "df = pickle.load(open(path, \"rb\"))"
   ]
  },
  {
   "cell_type": "markdown",
   "metadata": {},
   "source": [
    "### Preprosses the data\n"
   ]
  },
  {
   "cell_type": "code",
   "execution_count": 6,
   "metadata": {
    "scrolled": true
   },
   "outputs": [
    {
     "name": "stdout",
     "output_type": "stream",
     "text": [
      "================================================================> Init prosses +  680355\n",
      "========================================> Removing None and duplicates in data +  680355\n",
      "==========================================================> Getting the titles +  18958\n",
      "============================================> Removing the noice in the titles +  18958\n",
      "==================================> Tokenizing and lowering the word in titles +  18958\n",
      "========================================> Removing the stopwords in the titles +  18958\n",
      "==========================================================> Stemming the words +  18958\n",
      "===========================================> Vectorizing the corpus with TFIDF +  18958\n"
     ]
    }
   ],
   "source": [
    "nlp = NLP(df)\n",
    "nlp.do_magic()"
   ]
  },
  {
   "cell_type": "markdown",
   "metadata": {},
   "source": [
    "### Find a random user"
   ]
  },
  {
   "cell_type": "markdown",
   "metadata": {},
   "source": [
    "It will find a user and retrive all the data from this userId."
   ]
  },
  {
   "cell_type": "code",
   "execution_count": 7,
   "metadata": {},
   "outputs": [
    {
     "name": "stdout",
     "output_type": "stream",
     "text": [
      "1000\n"
     ]
    }
   ],
   "source": [
    "uniqueUsers = pd.unique(df['userId'])\n",
    "print(len(uniqueUsers))"
   ]
  },
  {
   "cell_type": "code",
   "execution_count": 8,
   "metadata": {},
   "outputs": [],
   "source": [
    "index = random.randint(0, len(nlp.data))\n",
    "user = df[\"userId\"][index]\n",
    "userData = df.loc[lambda df: df['userId'] == user]"
   ]
  },
  {
   "cell_type": "markdown",
   "metadata": {},
   "source": [
    "It will then filter out the data where the activtime is less then 44. This will be the users relevant dataset, and it will be used to measure recall and ARHR."
   ]
  },
  {
   "cell_type": "code",
   "execution_count": 9,
   "metadata": {},
   "outputs": [],
   "source": [
    "relevantUserData = userData.loc[userData['activeTime'] > 44]"
   ]
  },
  {
   "cell_type": "markdown",
   "metadata": {},
   "source": [
    "### Make a search with a existing title form the data set"
   ]
  },
  {
   "cell_type": "markdown",
   "metadata": {},
   "source": [
    "Further, it will then choose a random title from the relevant dataset from the random userId."
   ]
  },
  {
   "cell_type": "code",
   "execution_count": 10,
   "metadata": {},
   "outputs": [
    {
     "name": "stdout",
     "output_type": "stream",
     "text": [
      "Eggen om Bendtner: - Skal noen få skikk på ham, er det «guttene mine» på Lerkendal\n"
     ]
    }
   ],
   "source": [
    "#Uses a random number\n",
    "indexUser = random.randint(0, len(userData))\n",
    "title = userData.sample()[\"title\"].iat[0]\n",
    "print(title)"
   ]
  },
  {
   "cell_type": "markdown",
   "metadata": {},
   "source": [
    "### Compare"
   ]
  },
  {
   "cell_type": "markdown",
   "metadata": {},
   "source": [
    "It will compare various titles by using cosine-similarity. An list of the most top 15 articles will show."
   ]
  },
  {
   "cell_type": "code",
   "execution_count": 11,
   "metadata": {},
   "outputs": [
    {
     "data": {
      "text/html": [
       "<div>\n",
       "<style scoped>\n",
       "    .dataframe tbody tr th:only-of-type {\n",
       "        vertical-align: middle;\n",
       "    }\n",
       "\n",
       "    .dataframe tbody tr th {\n",
       "        vertical-align: top;\n",
       "    }\n",
       "\n",
       "    .dataframe thead th {\n",
       "        text-align: right;\n",
       "    }\n",
       "</style>\n",
       "<table border=\"1\" class=\"dataframe\">\n",
       "  <thead>\n",
       "    <tr style=\"text-align: right;\">\n",
       "      <th></th>\n",
       "      <th>index</th>\n",
       "      <th>eventId</th>\n",
       "      <th>category</th>\n",
       "      <th>activeTime</th>\n",
       "      <th>title</th>\n",
       "      <th>url</th>\n",
       "      <th>userId</th>\n",
       "      <th>publishtime</th>\n",
       "      <th>time</th>\n",
       "      <th>documentId</th>\n",
       "      <th>new_title</th>\n",
       "      <th>similarity</th>\n",
       "    </tr>\n",
       "  </thead>\n",
       "  <tbody>\n",
       "    <tr>\n",
       "      <th>2723</th>\n",
       "      <td>51456</td>\n",
       "      <td>1725560276</td>\n",
       "      <td>100sport|fotball</td>\n",
       "      <td>46.000000</td>\n",
       "      <td>Eggen om Bendtner: - Skal noen få skikk på ham...</td>\n",
       "      <td>http://adressa.no/100sport/fotball/eggen-om-be...</td>\n",
       "      <td>cx:13497671501361832862782:gx2qsg854oeh</td>\n",
       "      <td>2017-03-07T09:07:05.000Z</td>\n",
       "      <td>1489157677</td>\n",
       "      <td>966e5991bde1adf3514abe45e0350e835e663697</td>\n",
       "      <td>[egg, bendtn, få, skikk, ham, gutt, lerkendal]</td>\n",
       "      <td>1.000000</td>\n",
       "    </tr>\n",
       "    <tr>\n",
       "      <th>14128</th>\n",
       "      <td>425994</td>\n",
       "      <td>1831977896</td>\n",
       "      <td>None</td>\n",
       "      <td>14.000000</td>\n",
       "      <td>Direkte: Bendtner møter pressen på Lerkendal</td>\n",
       "      <td>http://adressa.no/video/article14448597.ece</td>\n",
       "      <td>cx:2h6xqt8cgq8c43k4ofnzmkxxsk:1wl24qruz4cvw</td>\n",
       "      <td>2017-03-15T11:30:25.000Z</td>\n",
       "      <td>1489584222</td>\n",
       "      <td>6997b7853dcd1469b2f5a0ee76f225d15b03634a</td>\n",
       "      <td>[direkt, bendtn, møt, press, lerkendal]</td>\n",
       "      <td>0.384070</td>\n",
       "    </tr>\n",
       "    <tr>\n",
       "      <th>4878</th>\n",
       "      <td>101838</td>\n",
       "      <td>1513805065</td>\n",
       "      <td>100sport|fotball</td>\n",
       "      <td>44.359582</td>\n",
       "      <td>Her får Bendtner sin første leksjon av mester ...</td>\n",
       "      <td>http://adressa.no/100sport/fotball/her-far-ben...</td>\n",
       "      <td>cx:1383860356863849037094:3gopbqslccea4</td>\n",
       "      <td>2017-03-23T14:38:15.000Z</td>\n",
       "      <td>1490818798</td>\n",
       "      <td>e6b13b7d0088af3818cf750a5e5564901cd05967</td>\n",
       "      <td>[får, bendtn, først, leksjon, mest, egg]</td>\n",
       "      <td>0.341114</td>\n",
       "    </tr>\n",
       "    <tr>\n",
       "      <th>12786</th>\n",
       "      <td>364167</td>\n",
       "      <td>277501262</td>\n",
       "      <td>nyheter|trondheim</td>\n",
       "      <td>185.000000</td>\n",
       "      <td>Nå skal denne gata få et skikkelig ansiktsløft</td>\n",
       "      <td>http://adressa.no/nyheter/trondheim/2016/11/28...</td>\n",
       "      <td>cx:hst6hn5p7iv3i23j:2fnwe999efaax</td>\n",
       "      <td>2016-11-28T21:15:22.000Z</td>\n",
       "      <td>1490185611</td>\n",
       "      <td>9c54ac864a1bbb7d6b602e50a28a78b12930625c</td>\n",
       "      <td>[gat, få, skikk, ansiktsløft]</td>\n",
       "      <td>0.313409</td>\n",
       "    </tr>\n",
       "    <tr>\n",
       "      <th>12676</th>\n",
       "      <td>358508</td>\n",
       "      <td>1336521630</td>\n",
       "      <td>nyheter|sortrondelag</td>\n",
       "      <td>27.000000</td>\n",
       "      <td>- Det var et skikkelig smell</td>\n",
       "      <td>http://adressa.no/nyheter/sortrondelag/2015/12...</td>\n",
       "      <td>cx:1kfmbn5m74t221malc73lr3w32:2lb8hkquy7t23</td>\n",
       "      <td>2015-12-27T14:46:51.000Z</td>\n",
       "      <td>1484065862</td>\n",
       "      <td>0fece9aec60a4604a72b47c3e843119071827e59</td>\n",
       "      <td>[skikk, smell]</td>\n",
       "      <td>0.304917</td>\n",
       "    </tr>\n",
       "    <tr>\n",
       "      <th>3182</th>\n",
       "      <td>61680</td>\n",
       "      <td>1712503038</td>\n",
       "      <td>100sport|andreidretter</td>\n",
       "      <td>1.000000</td>\n",
       "      <td>Eggen gleder seg</td>\n",
       "      <td>http://adressa.no/norge/okt-pagang-av-barn-som...</td>\n",
       "      <td>cx:il4sn6l573yshivi:10w3zs8jeih3k</td>\n",
       "      <td>2000-11-11T10:57:00.000Z</td>\n",
       "      <td>1489779983</td>\n",
       "      <td>f34fcf2af732748c9d19f4a9dc585fd9997c1147</td>\n",
       "      <td>[egg, gled]</td>\n",
       "      <td>0.300953</td>\n",
       "    </tr>\n",
       "    <tr>\n",
       "      <th>11305</th>\n",
       "      <td>303989</td>\n",
       "      <td>1898509524</td>\n",
       "      <td>nyheter|trondheim</td>\n",
       "      <td>44.359582</td>\n",
       "      <td>- Det er skikkelig tragisk</td>\n",
       "      <td>http://adressa.no/nyheter/trondheim/2016/12/28...</td>\n",
       "      <td>cx:1kfmbn5m74t221malc73lr3w32:2lb8hkquy7t23</td>\n",
       "      <td>2016-12-28T08:23:03.000Z</td>\n",
       "      <td>1483941034</td>\n",
       "      <td>b09a1b0da50865b3ab82024d64852f44d214041c</td>\n",
       "      <td>[skikk, tragisk]</td>\n",
       "      <td>0.278876</td>\n",
       "    </tr>\n",
       "    <tr>\n",
       "      <th>8687</th>\n",
       "      <td>216671</td>\n",
       "      <td>1462815619</td>\n",
       "      <td>nyheter|trondheim</td>\n",
       "      <td>189.000000</td>\n",
       "      <td>«Få skikk på eldreomsorgen før superbusser og ...</td>\n",
       "      <td>http://adressa.no/nyheter/trondheim/2017/02/24...</td>\n",
       "      <td>cx:2j5iepyewbe683niz1zfmuu4vc:1la1o1zm5h4pe</td>\n",
       "      <td>2017-02-24T19:08:11.000Z</td>\n",
       "      <td>1487977754</td>\n",
       "      <td>ed78a5af96a0292b9f6a6475ba850b6af5abf3bd</td>\n",
       "      <td>[få, skikk, eldreomsorg, superbuss, andr, pres...</td>\n",
       "      <td>0.259657</td>\n",
       "    </tr>\n",
       "    <tr>\n",
       "      <th>14735</th>\n",
       "      <td>456687</td>\n",
       "      <td>517943970</td>\n",
       "      <td>None</td>\n",
       "      <td>44.359582</td>\n",
       "      <td>- Vi vil at guttene og deres familie skal få k...</td>\n",
       "      <td>http://adressa.no/nyheter/moreromsdal/article1...</td>\n",
       "      <td>cx:ilci32s5jzhxgdwf:2qur4fhg4shzx</td>\n",
       "      <td>None</td>\n",
       "      <td>1484166291</td>\n",
       "      <td>9a74fbbd72145ce862eedcad1ac8963cda5816a9</td>\n",
       "      <td>[gutt, famili, få, komm, tilbak, sunndal]</td>\n",
       "      <td>0.258074</td>\n",
       "    </tr>\n",
       "    <tr>\n",
       "      <th>12040</th>\n",
       "      <td>334329</td>\n",
       "      <td>1652890079</td>\n",
       "      <td>pluss|sport</td>\n",
       "      <td>112.000000</td>\n",
       "      <td>Han styrer lyden av Lerkendal</td>\n",
       "      <td>http://adressa.no/pluss/sport/2015/11/04/han-s...</td>\n",
       "      <td>cx:ie41rzokxgss9y1d:3l7vyyb4y74b</td>\n",
       "      <td>2015-11-04T09:23:44.000Z</td>\n",
       "      <td>1490446161</td>\n",
       "      <td>7bc561b38ea6fc09f71fe681b815b7a9452a7f5f</td>\n",
       "      <td>[styr, lyd, lerkendal]</td>\n",
       "      <td>0.251140</td>\n",
       "    </tr>\n",
       "    <tr>\n",
       "      <th>13540</th>\n",
       "      <td>393736</td>\n",
       "      <td>1667509406</td>\n",
       "      <td>100sport|fotball</td>\n",
       "      <td>3.000000</td>\n",
       "      <td>Bendtner starter på benken: Kan få RBK-debuten</td>\n",
       "      <td>http://adressa.no/100sport/fotball/bendtner-me...</td>\n",
       "      <td>cx:13887074649011183880996:2g4mtvgihuxck</td>\n",
       "      <td>2017-03-12T10:14:55.000Z</td>\n",
       "      <td>1489361137</td>\n",
       "      <td>c0e11ef294d67a74046252b70d822404a8b8be94</td>\n",
       "      <td>[bendtn, start, benk, få, rbkdebut]</td>\n",
       "      <td>0.249511</td>\n",
       "    </tr>\n",
       "    <tr>\n",
       "      <th>1805</th>\n",
       "      <td>32570</td>\n",
       "      <td>1883842291</td>\n",
       "      <td>None</td>\n",
       "      <td>44.359582</td>\n",
       "      <td>Bendtner kan få sin RBK-debut på trøndersk jord</td>\n",
       "      <td>http://adressa.no/100sport/2017/03/17/bendtner...</td>\n",
       "      <td>cx:igwjot1pirzqbg3j:1lt4qn35mswuy</td>\n",
       "      <td>2017-03-17T11:31:03.000Z</td>\n",
       "      <td>1489911048</td>\n",
       "      <td>8b1d33a42f59c2ac92a4051d931ec3b334c80130</td>\n",
       "      <td>[bendtn, få, rbkdebut, trøndersk, jord]</td>\n",
       "      <td>0.248789</td>\n",
       "    </tr>\n",
       "    <tr>\n",
       "      <th>2830</th>\n",
       "      <td>53875</td>\n",
       "      <td>1343415962</td>\n",
       "      <td>pluss|nyheter</td>\n",
       "      <td>18.000000</td>\n",
       "      <td>Denne familien har åtte sesongkort på Lerkendal</td>\n",
       "      <td>http://adressa.no/pluss/nyheter/2015/11/20/har...</td>\n",
       "      <td>cx:ilwmnydvnzebvntf:ivg3c9796xn2</td>\n",
       "      <td>2015-11-20T06:26:45.000Z</td>\n",
       "      <td>1489180187</td>\n",
       "      <td>0d6dc8f6e3fabe0ceb12abffb6e0ba47fef98ad9</td>\n",
       "      <td>[famili, ått, sesongkort, lerkendal]</td>\n",
       "      <td>0.227816</td>\n",
       "    </tr>\n",
       "    <tr>\n",
       "      <th>10706</th>\n",
       "      <td>283964</td>\n",
       "      <td>2077208071</td>\n",
       "      <td>100sport|andreidretter</td>\n",
       "      <td>191.000000</td>\n",
       "      <td>«Like feil som å flytte RBK fra Lerkendal»</td>\n",
       "      <td>http://adressa.no/100sport/andreidretter/like-...</td>\n",
       "      <td>cx:i6j47igihmomoei6:frn6qrobxann</td>\n",
       "      <td>2016-02-04T21:00:46.000Z</td>\n",
       "      <td>1488752509</td>\n",
       "      <td>91f0f2dea20b01625a3f22cdb5460f4badca9f5f</td>\n",
       "      <td>[lik, feil, flytt, rbk, lerkendal]</td>\n",
       "      <td>0.226769</td>\n",
       "    </tr>\n",
       "    <tr>\n",
       "      <th>10295</th>\n",
       "      <td>270872</td>\n",
       "      <td>1374771834</td>\n",
       "      <td>100sport|fotball</td>\n",
       "      <td>84.000000</td>\n",
       "      <td>RBK-unggutter på vei bort fra Lerkendal</td>\n",
       "      <td>http://adressa.no/100sport/fotball/rbk-unggutt...</td>\n",
       "      <td>cx:i60vyc3c28esgq9i:1lcox5vn5awsp</td>\n",
       "      <td>2017-01-04T15:21:55.000Z</td>\n",
       "      <td>1483875942</td>\n",
       "      <td>44d3e6498035638f2e1c0580332b67e0d71af45c</td>\n",
       "      <td>[rbkunggutt, vei, bort, lerkendal]</td>\n",
       "      <td>0.224416</td>\n",
       "    </tr>\n",
       "  </tbody>\n",
       "</table>\n",
       "</div>"
      ],
      "text/plain": [
       "        index     eventId                category  activeTime  \\\n",
       "2723    51456  1725560276        100sport|fotball   46.000000   \n",
       "14128  425994  1831977896                    None   14.000000   \n",
       "4878   101838  1513805065        100sport|fotball   44.359582   \n",
       "12786  364167   277501262       nyheter|trondheim  185.000000   \n",
       "12676  358508  1336521630    nyheter|sortrondelag   27.000000   \n",
       "3182    61680  1712503038  100sport|andreidretter    1.000000   \n",
       "11305  303989  1898509524       nyheter|trondheim   44.359582   \n",
       "8687   216671  1462815619       nyheter|trondheim  189.000000   \n",
       "14735  456687   517943970                    None   44.359582   \n",
       "12040  334329  1652890079             pluss|sport  112.000000   \n",
       "13540  393736  1667509406        100sport|fotball    3.000000   \n",
       "1805    32570  1883842291                    None   44.359582   \n",
       "2830    53875  1343415962           pluss|nyheter   18.000000   \n",
       "10706  283964  2077208071  100sport|andreidretter  191.000000   \n",
       "10295  270872  1374771834        100sport|fotball   84.000000   \n",
       "\n",
       "                                                   title  \\\n",
       "2723   Eggen om Bendtner: - Skal noen få skikk på ham...   \n",
       "14128       Direkte: Bendtner møter pressen på Lerkendal   \n",
       "4878   Her får Bendtner sin første leksjon av mester ...   \n",
       "12786     Nå skal denne gata få et skikkelig ansiktsløft   \n",
       "12676                       - Det var et skikkelig smell   \n",
       "3182                                    Eggen gleder seg   \n",
       "11305                         - Det er skikkelig tragisk   \n",
       "8687   «Få skikk på eldreomsorgen før superbusser og ...   \n",
       "14735  - Vi vil at guttene og deres familie skal få k...   \n",
       "12040                      Han styrer lyden av Lerkendal   \n",
       "13540     Bendtner starter på benken: Kan få RBK-debuten   \n",
       "1805     Bendtner kan få sin RBK-debut på trøndersk jord   \n",
       "2830     Denne familien har åtte sesongkort på Lerkendal   \n",
       "10706         «Like feil som å flytte RBK fra Lerkendal»   \n",
       "10295            RBK-unggutter på vei bort fra Lerkendal   \n",
       "\n",
       "                                                     url  \\\n",
       "2723   http://adressa.no/100sport/fotball/eggen-om-be...   \n",
       "14128        http://adressa.no/video/article14448597.ece   \n",
       "4878   http://adressa.no/100sport/fotball/her-far-ben...   \n",
       "12786  http://adressa.no/nyheter/trondheim/2016/11/28...   \n",
       "12676  http://adressa.no/nyheter/sortrondelag/2015/12...   \n",
       "3182   http://adressa.no/norge/okt-pagang-av-barn-som...   \n",
       "11305  http://adressa.no/nyheter/trondheim/2016/12/28...   \n",
       "8687   http://adressa.no/nyheter/trondheim/2017/02/24...   \n",
       "14735  http://adressa.no/nyheter/moreromsdal/article1...   \n",
       "12040  http://adressa.no/pluss/sport/2015/11/04/han-s...   \n",
       "13540  http://adressa.no/100sport/fotball/bendtner-me...   \n",
       "1805   http://adressa.no/100sport/2017/03/17/bendtner...   \n",
       "2830   http://adressa.no/pluss/nyheter/2015/11/20/har...   \n",
       "10706  http://adressa.no/100sport/andreidretter/like-...   \n",
       "10295  http://adressa.no/100sport/fotball/rbk-unggutt...   \n",
       "\n",
       "                                            userId               publishtime  \\\n",
       "2723       cx:13497671501361832862782:gx2qsg854oeh  2017-03-07T09:07:05.000Z   \n",
       "14128  cx:2h6xqt8cgq8c43k4ofnzmkxxsk:1wl24qruz4cvw  2017-03-15T11:30:25.000Z   \n",
       "4878       cx:1383860356863849037094:3gopbqslccea4  2017-03-23T14:38:15.000Z   \n",
       "12786            cx:hst6hn5p7iv3i23j:2fnwe999efaax  2016-11-28T21:15:22.000Z   \n",
       "12676  cx:1kfmbn5m74t221malc73lr3w32:2lb8hkquy7t23  2015-12-27T14:46:51.000Z   \n",
       "3182             cx:il4sn6l573yshivi:10w3zs8jeih3k  2000-11-11T10:57:00.000Z   \n",
       "11305  cx:1kfmbn5m74t221malc73lr3w32:2lb8hkquy7t23  2016-12-28T08:23:03.000Z   \n",
       "8687   cx:2j5iepyewbe683niz1zfmuu4vc:1la1o1zm5h4pe  2017-02-24T19:08:11.000Z   \n",
       "14735            cx:ilci32s5jzhxgdwf:2qur4fhg4shzx                      None   \n",
       "12040             cx:ie41rzokxgss9y1d:3l7vyyb4y74b  2015-11-04T09:23:44.000Z   \n",
       "13540     cx:13887074649011183880996:2g4mtvgihuxck  2017-03-12T10:14:55.000Z   \n",
       "1805             cx:igwjot1pirzqbg3j:1lt4qn35mswuy  2017-03-17T11:31:03.000Z   \n",
       "2830              cx:ilwmnydvnzebvntf:ivg3c9796xn2  2015-11-20T06:26:45.000Z   \n",
       "10706             cx:i6j47igihmomoei6:frn6qrobxann  2016-02-04T21:00:46.000Z   \n",
       "10295            cx:i60vyc3c28esgq9i:1lcox5vn5awsp  2017-01-04T15:21:55.000Z   \n",
       "\n",
       "             time                                documentId  \\\n",
       "2723   1489157677  966e5991bde1adf3514abe45e0350e835e663697   \n",
       "14128  1489584222  6997b7853dcd1469b2f5a0ee76f225d15b03634a   \n",
       "4878   1490818798  e6b13b7d0088af3818cf750a5e5564901cd05967   \n",
       "12786  1490185611  9c54ac864a1bbb7d6b602e50a28a78b12930625c   \n",
       "12676  1484065862  0fece9aec60a4604a72b47c3e843119071827e59   \n",
       "3182   1489779983  f34fcf2af732748c9d19f4a9dc585fd9997c1147   \n",
       "11305  1483941034  b09a1b0da50865b3ab82024d64852f44d214041c   \n",
       "8687   1487977754  ed78a5af96a0292b9f6a6475ba850b6af5abf3bd   \n",
       "14735  1484166291  9a74fbbd72145ce862eedcad1ac8963cda5816a9   \n",
       "12040  1490446161  7bc561b38ea6fc09f71fe681b815b7a9452a7f5f   \n",
       "13540  1489361137  c0e11ef294d67a74046252b70d822404a8b8be94   \n",
       "1805   1489911048  8b1d33a42f59c2ac92a4051d931ec3b334c80130   \n",
       "2830   1489180187  0d6dc8f6e3fabe0ceb12abffb6e0ba47fef98ad9   \n",
       "10706  1488752509  91f0f2dea20b01625a3f22cdb5460f4badca9f5f   \n",
       "10295  1483875942  44d3e6498035638f2e1c0580332b67e0d71af45c   \n",
       "\n",
       "                                               new_title  similarity  \n",
       "2723      [egg, bendtn, få, skikk, ham, gutt, lerkendal]    1.000000  \n",
       "14128            [direkt, bendtn, møt, press, lerkendal]    0.384070  \n",
       "4878            [får, bendtn, først, leksjon, mest, egg]    0.341114  \n",
       "12786                      [gat, få, skikk, ansiktsløft]    0.313409  \n",
       "12676                                     [skikk, smell]    0.304917  \n",
       "3182                                         [egg, gled]    0.300953  \n",
       "11305                                   [skikk, tragisk]    0.278876  \n",
       "8687   [få, skikk, eldreomsorg, superbuss, andr, pres...    0.259657  \n",
       "14735          [gutt, famili, få, komm, tilbak, sunndal]    0.258074  \n",
       "12040                             [styr, lyd, lerkendal]    0.251140  \n",
       "13540                [bendtn, start, benk, få, rbkdebut]    0.249511  \n",
       "1805             [bendtn, få, rbkdebut, trøndersk, jord]    0.248789  \n",
       "2830                [famili, ått, sesongkort, lerkendal]    0.227816  \n",
       "10706                 [lik, feil, flytt, rbk, lerkendal]    0.226769  \n",
       "10295                 [rbkunggutt, vei, bort, lerkendal]    0.224416  "
      ]
     },
     "execution_count": 11,
     "metadata": {},
     "output_type": "execute_result"
    }
   ],
   "source": [
    "top_k_results = 15\n",
    "res = nlp.compare(title, k_number=top_k_results)\n",
    "res"
   ]
  },
  {
   "cell_type": "markdown",
   "metadata": {},
   "source": [
    "### Better view"
   ]
  },
  {
   "cell_type": "markdown",
   "metadata": {},
   "source": [
    "Here we can see the top 15 articles with their corresponding similarity."
   ]
  },
  {
   "cell_type": "code",
   "execution_count": 12,
   "metadata": {},
   "outputs": [
    {
     "data": {
      "text/html": [
       "<div>\n",
       "<style scoped>\n",
       "    .dataframe tbody tr th:only-of-type {\n",
       "        vertical-align: middle;\n",
       "    }\n",
       "\n",
       "    .dataframe tbody tr th {\n",
       "        vertical-align: top;\n",
       "    }\n",
       "\n",
       "    .dataframe thead th {\n",
       "        text-align: right;\n",
       "    }\n",
       "</style>\n",
       "<table border=\"1\" class=\"dataframe\">\n",
       "  <thead>\n",
       "    <tr style=\"text-align: right;\">\n",
       "      <th></th>\n",
       "      <th>similarity</th>\n",
       "      <th>title</th>\n",
       "      <th>activeTime</th>\n",
       "    </tr>\n",
       "  </thead>\n",
       "  <tbody>\n",
       "    <tr>\n",
       "      <th>2723</th>\n",
       "      <td>1.000000</td>\n",
       "      <td>Eggen om Bendtner: - Skal noen få skikk på ham...</td>\n",
       "      <td>46.000000</td>\n",
       "    </tr>\n",
       "    <tr>\n",
       "      <th>14128</th>\n",
       "      <td>0.384070</td>\n",
       "      <td>Direkte: Bendtner møter pressen på Lerkendal</td>\n",
       "      <td>14.000000</td>\n",
       "    </tr>\n",
       "    <tr>\n",
       "      <th>4878</th>\n",
       "      <td>0.341114</td>\n",
       "      <td>Her får Bendtner sin første leksjon av mester ...</td>\n",
       "      <td>44.359582</td>\n",
       "    </tr>\n",
       "    <tr>\n",
       "      <th>12786</th>\n",
       "      <td>0.313409</td>\n",
       "      <td>Nå skal denne gata få et skikkelig ansiktsløft</td>\n",
       "      <td>185.000000</td>\n",
       "    </tr>\n",
       "    <tr>\n",
       "      <th>12676</th>\n",
       "      <td>0.304917</td>\n",
       "      <td>- Det var et skikkelig smell</td>\n",
       "      <td>27.000000</td>\n",
       "    </tr>\n",
       "    <tr>\n",
       "      <th>3182</th>\n",
       "      <td>0.300953</td>\n",
       "      <td>Eggen gleder seg</td>\n",
       "      <td>1.000000</td>\n",
       "    </tr>\n",
       "    <tr>\n",
       "      <th>11305</th>\n",
       "      <td>0.278876</td>\n",
       "      <td>- Det er skikkelig tragisk</td>\n",
       "      <td>44.359582</td>\n",
       "    </tr>\n",
       "    <tr>\n",
       "      <th>8687</th>\n",
       "      <td>0.259657</td>\n",
       "      <td>«Få skikk på eldreomsorgen før superbusser og ...</td>\n",
       "      <td>189.000000</td>\n",
       "    </tr>\n",
       "    <tr>\n",
       "      <th>14735</th>\n",
       "      <td>0.258074</td>\n",
       "      <td>- Vi vil at guttene og deres familie skal få k...</td>\n",
       "      <td>44.359582</td>\n",
       "    </tr>\n",
       "    <tr>\n",
       "      <th>12040</th>\n",
       "      <td>0.251140</td>\n",
       "      <td>Han styrer lyden av Lerkendal</td>\n",
       "      <td>112.000000</td>\n",
       "    </tr>\n",
       "    <tr>\n",
       "      <th>13540</th>\n",
       "      <td>0.249511</td>\n",
       "      <td>Bendtner starter på benken: Kan få RBK-debuten</td>\n",
       "      <td>3.000000</td>\n",
       "    </tr>\n",
       "    <tr>\n",
       "      <th>1805</th>\n",
       "      <td>0.248789</td>\n",
       "      <td>Bendtner kan få sin RBK-debut på trøndersk jord</td>\n",
       "      <td>44.359582</td>\n",
       "    </tr>\n",
       "    <tr>\n",
       "      <th>2830</th>\n",
       "      <td>0.227816</td>\n",
       "      <td>Denne familien har åtte sesongkort på Lerkendal</td>\n",
       "      <td>18.000000</td>\n",
       "    </tr>\n",
       "    <tr>\n",
       "      <th>10706</th>\n",
       "      <td>0.226769</td>\n",
       "      <td>«Like feil som å flytte RBK fra Lerkendal»</td>\n",
       "      <td>191.000000</td>\n",
       "    </tr>\n",
       "    <tr>\n",
       "      <th>10295</th>\n",
       "      <td>0.224416</td>\n",
       "      <td>RBK-unggutter på vei bort fra Lerkendal</td>\n",
       "      <td>84.000000</td>\n",
       "    </tr>\n",
       "  </tbody>\n",
       "</table>\n",
       "</div>"
      ],
      "text/plain": [
       "       similarity                                              title  \\\n",
       "2723     1.000000  Eggen om Bendtner: - Skal noen få skikk på ham...   \n",
       "14128    0.384070       Direkte: Bendtner møter pressen på Lerkendal   \n",
       "4878     0.341114  Her får Bendtner sin første leksjon av mester ...   \n",
       "12786    0.313409     Nå skal denne gata få et skikkelig ansiktsløft   \n",
       "12676    0.304917                       - Det var et skikkelig smell   \n",
       "3182     0.300953                                   Eggen gleder seg   \n",
       "11305    0.278876                         - Det er skikkelig tragisk   \n",
       "8687     0.259657  «Få skikk på eldreomsorgen før superbusser og ...   \n",
       "14735    0.258074  - Vi vil at guttene og deres familie skal få k...   \n",
       "12040    0.251140                      Han styrer lyden av Lerkendal   \n",
       "13540    0.249511     Bendtner starter på benken: Kan få RBK-debuten   \n",
       "1805     0.248789    Bendtner kan få sin RBK-debut på trøndersk jord   \n",
       "2830     0.227816    Denne familien har åtte sesongkort på Lerkendal   \n",
       "10706    0.226769         «Like feil som å flytte RBK fra Lerkendal»   \n",
       "10295    0.224416            RBK-unggutter på vei bort fra Lerkendal   \n",
       "\n",
       "       activeTime  \n",
       "2723    46.000000  \n",
       "14128   14.000000  \n",
       "4878    44.359582  \n",
       "12786  185.000000  \n",
       "12676   27.000000  \n",
       "3182     1.000000  \n",
       "11305   44.359582  \n",
       "8687   189.000000  \n",
       "14735   44.359582  \n",
       "12040  112.000000  \n",
       "13540    3.000000  \n",
       "1805    44.359582  \n",
       "2830    18.000000  \n",
       "10706  191.000000  \n",
       "10295   84.000000  "
      ]
     },
     "execution_count": 12,
     "metadata": {},
     "output_type": "execute_result"
    }
   ],
   "source": [
    "cols = [\"similarity\",\"title\", \"activeTime\"]\n",
    "res[cols]"
   ]
  },
  {
   "cell_type": "markdown",
   "metadata": {},
   "source": [
    "### Measurements"
   ]
  },
  {
   "cell_type": "markdown",
   "metadata": {},
   "source": [
    "#### Recall"
   ]
  },
  {
   "cell_type": "code",
   "execution_count": 13,
   "metadata": {},
   "outputs": [
    {
     "name": "stdout",
     "output_type": "stream",
     "text": [
      "Recall: 0.0013157894736842105\n"
     ]
    }
   ],
   "source": [
    "# Recall\n",
    "retLis = res[cols].reset_index()\n",
    "getRel = userData.merge(retLis, how='inner', on='title')\n",
    "recall = len(getRel) / len(relevantUserData)\n",
    "print(\"Recall:\", recall)"
   ]
  },
  {
   "cell_type": "markdown",
   "metadata": {},
   "source": [
    "#### Precision"
   ]
  },
  {
   "cell_type": "code",
   "execution_count": 14,
   "metadata": {},
   "outputs": [
    {
     "name": "stdout",
     "output_type": "stream",
     "text": [
      "Precision: 0.06666666666666667\n"
     ]
    }
   ],
   "source": [
    "# Precision\n",
    "precision = len(getRel) / len(retLis)\n",
    "print(\"Precision:\", precision)"
   ]
  },
  {
   "cell_type": "markdown",
   "metadata": {},
   "source": [
    "#### ARHR"
   ]
  },
  {
   "cell_type": "code",
   "execution_count": 15,
   "metadata": {},
   "outputs": [],
   "source": [
    "retLis[\"index2\"] = np.arange(1,len(res[cols])+1)"
   ]
  },
  {
   "cell_type": "code",
   "execution_count": 30,
   "metadata": {},
   "outputs": [
    {
     "data": {
      "text/html": [
       "<div>\n",
       "<style scoped>\n",
       "    .dataframe tbody tr th:only-of-type {\n",
       "        vertical-align: middle;\n",
       "    }\n",
       "\n",
       "    .dataframe tbody tr th {\n",
       "        vertical-align: top;\n",
       "    }\n",
       "\n",
       "    .dataframe thead th {\n",
       "        text-align: right;\n",
       "    }\n",
       "</style>\n",
       "<table border=\"1\" class=\"dataframe\">\n",
       "  <thead>\n",
       "    <tr style=\"text-align: right;\">\n",
       "      <th></th>\n",
       "      <th>index</th>\n",
       "      <th>similarity</th>\n",
       "      <th>title</th>\n",
       "      <th>activeTime_x</th>\n",
       "      <th>index2</th>\n",
       "      <th>eventId</th>\n",
       "      <th>category</th>\n",
       "      <th>activeTime_y</th>\n",
       "      <th>url</th>\n",
       "      <th>userId</th>\n",
       "      <th>publishtime</th>\n",
       "      <th>time</th>\n",
       "      <th>documentId</th>\n",
       "    </tr>\n",
       "  </thead>\n",
       "  <tbody>\n",
       "    <tr>\n",
       "      <th>0</th>\n",
       "      <td>2160</td>\n",
       "      <td>1.000000</td>\n",
       "      <td>Mat til kreftsyke ble spist opp i 30-årslag:</td>\n",
       "      <td>57.0</td>\n",
       "      <td>1</td>\n",
       "      <td>554397485</td>\n",
       "      <td>nyheter|trondheim</td>\n",
       "      <td>44.359582</td>\n",
       "      <td>http://adressa.no/nyheter/trondheim/2017/01/16...</td>\n",
       "      <td>cx:37qlonca27pkr2pj5ez4e997l1:3spqe7w2c9ur4</td>\n",
       "      <td>2017-01-16T20:35:08.000Z</td>\n",
       "      <td>1484632398</td>\n",
       "      <td>fec01e53f1c622b11ce8b842010ee33f097fd300</td>\n",
       "    </tr>\n",
       "    <tr>\n",
       "      <th>1</th>\n",
       "      <td>8925</td>\n",
       "      <td>0.259579</td>\n",
       "      <td>Kreftsyke barn har tegnet seg inn på det norsk...</td>\n",
       "      <td>1.0</td>\n",
       "      <td>5</td>\n",
       "      <td>1924134267</td>\n",
       "      <td>100sport|vintersport</td>\n",
       "      <td>44.359582</td>\n",
       "      <td>http://adressa.no/100sport/vintersport/kreftsy...</td>\n",
       "      <td>cx:37qlonca27pkr2pj5ez4e997l1:3spqe7w2c9ur4</td>\n",
       "      <td>2017-02-23T16:19:12.000Z</td>\n",
       "      <td>1487872778</td>\n",
       "      <td>bcbad89cbb12ed3cc8cd4441a02ab45d2c5207b6</td>\n",
       "    </tr>\n",
       "  </tbody>\n",
       "</table>\n",
       "</div>"
      ],
      "text/plain": [
       "   index  similarity                                              title  \\\n",
       "0   2160    1.000000       Mat til kreftsyke ble spist opp i 30-årslag:   \n",
       "1   8925    0.259579  Kreftsyke barn har tegnet seg inn på det norsk...   \n",
       "\n",
       "   activeTime_x  index2     eventId              category  activeTime_y  \\\n",
       "0          57.0       1   554397485     nyheter|trondheim     44.359582   \n",
       "1           1.0       5  1924134267  100sport|vintersport     44.359582   \n",
       "\n",
       "                                                 url  \\\n",
       "0  http://adressa.no/nyheter/trondheim/2017/01/16...   \n",
       "1  http://adressa.no/100sport/vintersport/kreftsy...   \n",
       "\n",
       "                                        userId               publishtime  \\\n",
       "0  cx:37qlonca27pkr2pj5ez4e997l1:3spqe7w2c9ur4  2017-01-16T20:35:08.000Z   \n",
       "1  cx:37qlonca27pkr2pj5ez4e997l1:3spqe7w2c9ur4  2017-02-23T16:19:12.000Z   \n",
       "\n",
       "         time                                documentId  \n",
       "0  1484632398  fec01e53f1c622b11ce8b842010ee33f097fd300  \n",
       "1  1487872778  bcbad89cbb12ed3cc8cd4441a02ab45d2c5207b6  "
      ]
     },
     "execution_count": 30,
     "metadata": {},
     "output_type": "execute_result"
    }
   ],
   "source": [
    "common = retLis.merge(userData, how='inner', on='title')\n",
    "common"
   ]
  },
  {
   "cell_type": "code",
   "execution_count": 17,
   "metadata": {},
   "outputs": [
    {
     "name": "stdout",
     "output_type": "stream",
     "text": [
      "ARHR: 1.0\n"
     ]
    }
   ],
   "source": [
    "# ARHR\n",
    "ARHR = sum(1/common[\"index2\"])/len(common)\n",
    "print(\"ARHR:\", ARHR)"
   ]
  },
  {
   "cell_type": "markdown",
   "metadata": {},
   "source": [
    "### Now let's do it for all users"
   ]
  },
  {
   "cell_type": "code",
   "execution_count": 38,
   "metadata": {
    "scrolled": true
   },
   "outputs": [
    {
     "name": "stdout",
     "output_type": "stream",
     "text": [
      "0 / 1000\n",
      "50 / 1000\n",
      "100 / 1000\n",
      "150 / 1000\n",
      "200 / 1000\n",
      "250 / 1000\n",
      "300 / 1000\n",
      "350 / 1000\n",
      "400 / 1000\n",
      "450 / 1000\n",
      "500 / 1000\n",
      "550 / 1000\n",
      "600 / 1000\n",
      "650 / 1000\n",
      "700 / 1000\n",
      "750 / 1000\n",
      "800 / 1000\n",
      "850 / 1000\n",
      "900 / 1000\n",
      "950 / 1000\n",
      "[0.75, 1.0, 0.5833333333333334, 0.5357142857142857, 0.5555555555555556, 1.0, 1.0, 0.5833333333333334, 1.0, 1.0, 1.0, 0.2381410256410256, 1.0, 1.0, 1.0, 1.0, 1.0, 1.0, 1.0, 0.6666666666666666, 0.2891219891219891, 0.5555555555555556, 0.6666666666666666, 1.0, 1.0, 0.38244047619047616, 1.0, 0.5625, 0.625, 0.4222222222222222, 0.5454545454545454, 0.3849206349206349, 1.0, 0.5357142857142857, 0.3361950549450549, 0.5357142857142857, 1.0, 0.5357142857142857, 1.0, 1.0, 1.0, 0.4861111111111111, 1.0, 0.6666666666666666, 1.0, 0.625, 0.34958791208791207, 1.0, 1.0, 1.0, 0.5416666666666666, 1.0, 0.48333333333333334, 0.5625, 1.0, 1.0, 1.0, 1.0, 1.0, 1.0, 0.6666666666666666, 1.0, 1.0, 1.0, 1.0, 1.0, 0.49206349206349204, 0.425, 1.0, 1.0, 0.396969696969697, 1.0, 0.75, 0.5416666666666666, 1.0, 0.2918650793650793, 0.6, 1.0, 1.0, 0.6, 1.0, 1.0, 0.5333333333333333, 1.0, 0.5384615384615384, 1.0, 1.0, 0.5555555555555556, 1.0, 0.41919191919191917, 0.55, 1.0, 0.3867521367521367, 1.0, 0.5333333333333333, 0.6666666666666666, 0.5555555555555556, 0.31506410256410255, 0.5833333333333334, 1.0, 0.5625, 1.0, 0.625, 0.5555555555555556, 1.0, 1.0, 1.0, 0.3059523809523809, 1.0, 1.0, 0.40277777777777773, 0.5256410256410257, 0.5357142857142857, 1.0, 1.0, 1.0, 0.31666666666666665, 0.4289772727272727, 1.0, 1.0, 1.0, 0.5416666666666666, 0.41798941798941797, 1.0, 0.3811965811965812, 1.0, 0.31141774891774887, 1.0, 1.0, 1.0, 1.0, 0.75, 1.0, 1.0, 1.0, 1.0, 0.6, 1.0, 0.2755720470006184, 0.3941798941798942, 1.0, 1.0, 0.5384615384615384, 0.625, 1.0, 1.0, 1.0, 1.0, 0.5625, 1.0, 0.5555555555555556, 0.5833333333333334, 0.55, 1.0, 1.0, 1.0, 1.0, 1.0, 0.6666666666666666, 1.0, 0.40277777777777773, 0.75, 0.5333333333333333, 1.0, 1.0, 0.4476190476190476, 0.43888888888888883, 0.75, 0.3904761904761905, 0.6, 1.0, 1.0, 0.41203703703703703, 0.75, 0.75, 0.75, 1.0, 1.0, 0.5555555555555556, 1.0, 1.0, 0.6, 0.41923076923076924, 1.0, 1.0, 0.41798941798941797, 1.0, 1.0, 0.5416666666666666, 1.0, 0.4747474747474747, 0.33106060606060606, 0.5833333333333334, 0.47008547008547, 1.0, 0.75, 0.3811965811965812, 0.625, 0.6666666666666666, 0.5833333333333334, 1.0, 1.0, 0.5625, 0.40317460317460313, 1.0, 0.4226190476190476, 0.3607142857142857, 0.55, 0.5454545454545454, 1.0, 0.3229166666666667, 1.0, 0.3371212121212121, 1.0, 0.625, 1.0, 0.5357142857142857, 0.5384615384615384, 0.41923076923076924, 0.5625, 1.0, 0.625, 1.0, 0.5833333333333334, 0.611111111111111, 0.5555555555555556, 0.5384615384615384, 1.0, 0.5384615384615384, 0.40873015873015867, 0.28095238095238095, 1.0, 0.5357142857142857, 1.0, 1.0, 0.5416666666666666, 0.5714285714285714, 0.425925925925926, 0.5357142857142857, 0.55, 0.3015151515151515, 0.5416666666666666, 0.6, 1.0, 0.5833333333333334, 0.47222222222222215, 0.38278388278388276, 1.0, 0.48148148148148145, 0.5333333333333333, 1.0, 0.5833333333333334, 0.75, 1.0, 1.0, 1.0, 1.0, 1.0, 1.0, 1.0, 1.0, 1.0, 0.3817307692307692, 1.0, 1.0, 0.5357142857142857, 0.5416666666666666, 0.6666666666666666, 1.0, 1.0, 1.0, 1.0, 0.3095238095238095, 0.55, 0.5333333333333333, 0.3941798941798942, 0.5555555555555556, 0.5416666666666666, 1.0, 0.5555555555555556, 1.0, 1.0, 0.6, 0.39166666666666666, 0.5714285714285714, 0.5833333333333334, 0.4289772727272727, 0.4083333333333334, 0.5370370370370371, 0.41111111111111115, 0.5833333333333334, 1.0, 1.0, 0.75, 0.46428571428571425, 0.75, 0.44696969696969696, 0.32569444444444445, 0.5714285714285714, 1.0, 0.6666666666666666, 1.0, 0.40370370370370373, 1.0, 0.6666666666666666, 1.0, 0.5333333333333333, 0.625, 1.0, 1.0, 0.5625, 0.4777777777777778, 1.0, 1.0, 0.5384615384615384, 0.75, 1.0, 1.0, 1.0, 1.0, 0.5625, 1.0, 0.4747474747474747, 1.0, 0.6, 1.0, 0.5416666666666666, 0.4375, 0.5357142857142857, 1.0, 0.55, 0.6, 0.3421474358974359, 1.0, 0.75, 0.6, 0.4222222222222222, 0.5555555555555556, 1.0, 0.625, 1.0, 1.0, 1.0, 0.32629870129870125, 1.0, 1.0, 1.0, 1.0, 0.5555555555555556, 0.5384615384615384, 0.5833333333333334, 0.3972222222222222, 0.5476190476190476, 1.0, 1.0, 1.0, 1.0, 1.0, 1.0, 0.4682539682539682, 1.0, 1.0, 0.625, 1.0, 0.5714285714285714, 0.4666666666666667, 1.0, 1.0, 1.0, 1.0, 1.0, 0.47222222222222227, 0.39166666666666666, 1.0, 1.0, 1.0, 1.0, 1.0, 0.4083333333333333, 0.4142857142857143, 1.0, 0.37357142857142855, 1.0, 0.5833333333333334, 0.5384615384615384, 1.0, 0.5384615384615384, 0.5333333333333333, 1.0, 0.55, 0.5833333333333334, 0.5555555555555556, 1.0, 1.0, 1.0, 0.30833333333333335, 1.0, 0.5555555555555556, 0.45555555555555555, 0.5384615384615384, 1.0, 1.0, 1.0, 0.33015873015873015, 0.5714285714285714, 1.0, 0.5714285714285714, 0.5454545454545454, 0.75, 0.3276723276723276, 0.75, 1.0, 1.0, 1.0, 1.0, 0.5714285714285714, 1.0, 1.0, 0.5714285714285714, 0.37094017094017095, 0.5714285714285714, 0.55, 0.5384615384615384, 1.0, 1.0, 0.3154040404040404, 0.5833333333333334, 1.0, 1.0, 0.6666666666666666, 0.625, 0.5416666666666666, 1.0, 1.0, 0.5833333333333334, 1.0, 0.5555555555555556, 0.5625, 1.0, 0.5833333333333334, 1.0, 0.6, 0.5357142857142857, 0.5357142857142857, 0.4305555555555556, 1.0, 0.31959776334776335, 0.5416666666666666, 0.4226190476190476, 1.0, 1.0, 0.3652777777777778, 1.0, 0.4006410256410256, 0.28846153846153844, 1.0, 1.0, 0.5222222222222223, 1.0, 0.5, 1.0, 1.0, 1.0, 1.0, 1.0, 0.6, 0.6, 0.5454545454545454, 1.0, 0.625, 0.40370370370370373, 1.0, 1.0, 0.5555555555555556, 0.4226190476190476, 1.0, 1.0, 1.0, 0.387310606060606, 1.0, 1.0, 0.3505050505050505, 0.6666666666666666, 0.6666666666666666, 1.0, 0.38333333333333336, 1.0, 0.5833333333333334, 1.0, 1.0, 1.0, 1.0, 1.0, 1.0, 0.4083333333333334, 1.0, 0.625, 1.0, 1.0, 0.28540404040404044, 0.30617826617826616, 0.5454545454545454, 1.0, 0.4006410256410256, 1.0, 0.3888888888888889, 1.0, 1.0, 1.0, 0.75, 0.5384615384615384, 1.0, 0.25897435897435894, 0.5357142857142857, 0.5625, 1.0, 0.36607142857142855, 0.2997252747252747, 1.0, 0.42410714285714285, 0.4111111111111111, 1.0, 0.75, 0.5384615384615384, 1.0, 0.3925925925925926, 1.0, 1.0, 1.0, 1.0, 0.625, 1.0, 0.625, 1.0, 0.5555555555555556, 0.5416666666666666, 1.0, 0.3483974358974359, 0.4444444444444444, 0.75, 0.5416666666666666, 0.45, 1.0, 1.0, 0.5333333333333333, 1.0, 1.0, 1.0, 1.0, 1.0, 0.3777777777777778, 0.44166666666666665, 1.0, 0.43333333333333335, 1.0, 1.0, 1.0, 1.0, 1.0, 0.6, 1.0, 0.38585858585858585, 1.0, 0.47008547008547, 0.49206349206349204, 0.43452380952380953, 0.337797619047619, 0.5833333333333334, 1.0, 1.0, 1.0, 1.0, 0.5555555555555556, 0.45555555555555555, 0.611111111111111, 1.0, 0.5333333333333333, 0.5714285714285714, 1.0, 0.3914141414141414, 1.0, 0.5714285714285714, 0.6666666666666666, 0.4222222222222223, 1.0, 0.5555555555555556, 1.0, 1.0, 1.0, 0.5333333333333333, 0.3963369963369963, 1.0, 0.75, 0.2783128908128908, 0.37936507936507935, 0.5384615384615384, 1.0, 0.625, 1.0, 1.0, 1.0, 0.5714285714285714, 0.5333333333333333, 0.611111111111111, 0.3874458874458874, 1.0, 1.0, 1.0, 0.40873015873015867, 1.0, 0.5416666666666666, 1.0, 1.0, 0.75, 1.0, 0.5833333333333334, 1.0, 0.5833333333333334, 1.0, 1.0, 1.0, 0.38278388278388276, 0.5357142857142857, 0.396011396011396, 0.5333333333333333, 1.0, 0.3988095238095238, 0.5333333333333333, 1.0, 0.75, 1.0, 0.5333333333333333, 1.0, 1.0, 0.44696969696969696, 1.0, 1.0, 1.0, 0.75, 1.0, 0.5666666666666667, 1.0, 1.0, 1.0, 0.5833333333333334, 0.3761904761904762, 0.3209235209235209, 1.0, 0.5714285714285714, 1.0, 0.5833333333333334, 1.0, 0.43452380952380953, 0.75, 0.5666666666666667, 1.0, 1.0, 0.4423076923076923, 1.0, 1.0, 0.20535402097902097, 0.9348039215686273, 1.0, 1.0, 1.0, 1.0, 1.0, 0.6, 0.5454545454545454, 0.625, 1.0, 0.31836219336219335, 1.0, 1.0, 1.0, 0.5625, 0.6, 0.45555555555555555, 0.75, 1.0, 1.0, 1.0, 0.3914141414141414, 1.0, 1.0, 0.5477272727272727, 1.0, 0.2487993487993488, 1.0, 1.0, 0.28846153846153844, 1.0, 0.2714750527250528, 1.0, 1.0, 0.5333333333333333, 1.0, 1.0, 1.0, 1.0, 0.3904761904761905, 0.5256410256410257, 0.625, 0.4666666666666666, 0.5333333333333333, 0.4112554112554112, 1.0, 1.0, 0.5454545454545454, 0.625, 1.0, 1.0, 0.3120879120879121, 0.55, 0.5625, 0.43333333333333335, 0.36022727272727273, 1.0, 0.5833333333333334, 0.4226190476190476, 0.5833333333333334, 1.0, 0.625, 1.0, 0.5714285714285714, 1.0, 0.6, 1.0, 1.0, 1.0, 1.0, 0.5625, 0.5357142857142857, 1.0, 1.0, 0.6666666666666666, 0.48333333333333334, 1.0, 1.0, 0.6666666666666666, 0.30484848484848487, 1.0, 1.0, 1.0, 0.75, 0.2244543650793651, 0.6666666666666666, 0.5833333333333334, 1.0, 1.0, 1.0, 0.6, 0.5625, 0.625, 0.5833333333333334, 1.0, 1.0, 0.39814814814814814, 1.0, 0.4607142857142857, 0.5714285714285714, 0.38690476190476186, 0.5714285714285714, 1.0, 0.5416666666666666, 0.6, 1.0, 0.4047619047619047, 1.0, 1.0, 0.45555555555555555, 0.4583333333333333, 0.625, 0.4222222222222223, 0.39814814814814814, 0.5384615384615384, 0.55, 1.0, 0.6666666666666666, 0.5357142857142857, 0.3914141414141414, 1.0, 1.0, 0.36160714285714285, 1.0, 1.0, 1.0, 0.625, 1.0, 0.41208791208791207, 0.40370370370370373, 1.0, 0.40659340659340654, 0.4053030303030303, 1.0, 0.5833333333333334, 1.0, 1.0, 1.0, 1.0, 0.4423076923076923, 0.3507692307692308, 1.0, 1.0, 0.5555555555555556, 1.0, 1.0, 1.0, 1.0, 1.0, 0.5384615384615384, 1.0, 0.5111111111111111, 0.625, 0.5555555555555556, 0.5384615384615384, 0.75, 1.0, 0.4365079365079365, 0.3487179487179487, 0.4666666666666666, 0.625, 1.0, 1.0, 1.0, 1.0, 0.5384615384615384, 0.6, 0.4537037037037037, 1.0, 0.6666666666666666, 0.5625, 0.5833333333333334, 1.0, 1.0, 1.0, 1.0, 1.0, 1.0, 0.43703703703703706, 1.0, 0.5333333333333333, 1.0, 1.0, 1.0, 0.5333333333333333, 0.33134920634920634, 0.6666666666666666, 0.625, 0.5666666666666667, 1.0, 1.0, 0.625, 1.0, 1.0, 1.0, 0.5333333333333333, 1.0, 0.55, 0.5384615384615384, 0.5357142857142857, 1.0, 1.0, 1.0, 0.47222222222222227, 0.6, 1.0, 0.55, 0.4305555555555556, 1.0, 0.4289772727272727, 0.4666666666666666, 1.0, 0.5555555555555556, 0.5625, 0.40317460317460313, 1.0, 0.5416666666666666, 1.0, 0.48148148148148145, 1.0, 1.0, 1.0, 1.0, 0.6, 1.0, 1.0, 1.0, 1.0, 0.48148148148148145, 0.40370370370370373, 0.75, 1.0, 1.0, 1.0, 0.6, 1.0, 0.5833333333333334, 0.5384615384615384, 0.625, 1.0, 1.0, 0.6666666666666666, 0.5357142857142857, 1.0, 1.0, 1.0, 0.5416666666666666, 0.75, 0.75, 1.0, 1.0, 0.4583333333333333, 1.0, 0.4732142857142857, 0.37756410256410255, 1.0, 1.0, 1.0, 0.5833333333333334, 1.0, 0.5833333333333334, 0.5357142857142857, 1.0, 1.0, 0.5555555555555556, 1.0, 1.0, 1.0, 1.0, 1.0, 0.75, 1.0, 0.5555555555555556, 1.0, 0.5714285714285714, 1.0, 0.5333333333333333, 1.0, 1.0, 0.6, 1.0, 0.3643939393939394, 1.0, 0.5555555555555556, 1.0, 1.0, 1.0, 0.6, 0.5416666666666666, 1.0, 0.55, 1.0, 0.40119047619047615, 0.55, 0.6666666666666666, 1.0, 1.0, 0.6, 0.55, 0.6944444444444445, 0.6666666666666666, 1.0, 1.0, 0.4083333333333334, 1.0, 1.0, 1.0, 0.5357142857142857, 1.0, 1.0, 0.7083333333333334, 0.5555555555555556, 1.0, 1.0, 0.42777777777777776, 0.55, 0.3155844155844156, 1.0, 1.0, 1.0, 0.6666666666666666, 0.4222222222222223, 0.5384615384615384, 0.5833333333333334, 1.0, 0.43452380952380953, 1.0, 1.0, 1.0, 0.75, 0.55, 1.0, 1.0, 0.75, 0.75, 1.0, 0.41369047619047616, 1.0, 0.4166666666666667]\n"
     ]
    }
   ],
   "source": [
    "precisions = []\n",
    "recalls = []\n",
    "arhrs = []\n",
    "\n",
    "\n",
    "for idx, user in enumerate(pd.unique(df['userId'])):\n",
    "    if idx % 50 == 0:\n",
    "        print(idx, \"/\", len(pd.unique(df['userId'])))\n",
    "    index = random.randint(0, len(nlp.data))\n",
    "    userData = df.loc[lambda df: df['userId'] == user]\n",
    "    relevantUserData = userData.loc[userData['activeTime'] > 44]\n",
    "    \n",
    "    #Uses a random number\n",
    "    indexUser = random.randint(0, len(userData))\n",
    "    title = userData.sample()[\"title\"].iat[0]\n",
    "\n",
    "    top_k_results = 15\n",
    "    res = nlp.compare(title, k_number=top_k_results)\n",
    "    if res.empty:\n",
    "        print(\"skip\")\n",
    "        print(title)\n",
    "        continue\n",
    "\n",
    "    cols = [\"similarity\",\"title\", \"activeTime\"]\n",
    "\n",
    "    # Recall\n",
    "    retLis = res[cols].reset_index()\n",
    "    getRel = userData.merge(retLis, how='inner', on='title')\n",
    "    recall = len(getRel) / len(relevantUserData)\n",
    "    recalls.append(recall)\n",
    "\n",
    "    # Precision\n",
    "    precision = len(getRel) / len(retLis)\n",
    "    precisions.append(precision)\n",
    "\n",
    "    retLis[\"index2\"] = np.arange(1,len(res[cols])+1)\n",
    "\n",
    "    common = retLis.merge(userData, how='inner', on='title')\n",
    "\n",
    "    # ARHR\n",
    "    ARHR = sum(1/common[\"index2\"])/len(common)\n",
    "    arhrs.append(ARHR)\n",
    "\n",
    "print(arhrs)"
   ]
  },
  {
   "cell_type": "code",
   "execution_count": 39,
   "metadata": {},
   "outputs": [
    {
     "data": {
      "text/plain": [
       "0.7545433761628193"
      ]
     },
     "execution_count": 39,
     "metadata": {},
     "output_type": "execute_result"
    }
   ],
   "source": [
    "sum(arhrs) / len(arhrs)"
   ]
  },
  {
   "cell_type": "markdown",
   "metadata": {},
   "source": [
    "snitt: 0.7516660735208348"
   ]
  },
  {
   "cell_type": "code",
   "execution_count": null,
   "metadata": {},
   "outputs": [],
   "source": []
  }
 ],
 "metadata": {
  "kernelspec": {
   "display_name": "Python 3",
   "language": "python",
   "name": "python3"
  },
  "language_info": {
   "codemirror_mode": {
    "name": "ipython",
    "version": 3
   },
   "file_extension": ".py",
   "mimetype": "text/x-python",
   "name": "python",
   "nbconvert_exporter": "python",
   "pygments_lexer": "ipython3",
   "version": "3.8.0"
  }
 },
 "nbformat": 4,
 "nbformat_minor": 5
}
